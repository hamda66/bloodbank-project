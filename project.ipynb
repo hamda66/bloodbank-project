{
 "cells": [
  {
   "cell_type": "code",
   "execution_count": 24,
   "metadata": {},
   "outputs": [
    {
     "data": {
      "text/plain": [
       "['SQL Server',\n",
       " 'ODBC Driver 17 for SQL Server',\n",
       " 'MySQL ODBC 8.0 ANSI Driver',\n",
       " 'MySQL ODBC 8.0 Unicode Driver',\n",
       " 'SQL Server Native Client 11.0',\n",
       " 'SQL Server Native Client RDA 11.0']"
      ]
     },
     "execution_count": 24,
     "metadata": {},
     "output_type": "execute_result"
    }
   ],
   "source": [
    "import pandas as pd\n",
    "import datetime\n",
    "import pyodbc \n",
    "pyodbc.drivers()"
   ]
  },
  {
   "cell_type": "code",
   "execution_count": 25,
   "metadata": {},
   "outputs": [],
   "source": [
    "Server='LAPTOP-767CUQ3Q'\n",
    "database = 'master'\n",
    "username= '' \n",
    "password= ''\n",
    "Trusted_connection = 'yes' \n",
    "connn = pyodbc.connect ('DRIVER={SQL Server Native Client 11.0};SERVER='+Server\n",
    "                        +';DATABASE='+database+';UID='+username+';PWD='+password\n",
    "                        +';TRUSTED_CONNECTION='+Trusted_connection)"
   ]
  },
  {
   "cell_type": "code",
   "execution_count": null,
   "metadata": {},
   "outputs": [],
   "source": [
    "cursor = connn.cursor()\n",
    "cursor.execute(\"SELECT * FROM hos_PostCode\")\n",
    "rows=cursor.fetchall()\n",
    "for row in rows :\n",
    "  print (row)\n",
    "connn.commit()"
   ]
  },
  {
   "cell_type": "code",
   "execution_count": null,
   "metadata": {},
   "outputs": [],
   "source": [
    "cursor= connn.cursor()\n",
    "cursor.execute(\"insert into hos_PostCode (hos_postcode, hos_addres) values(?,?)\" ,'TR5 777','wise street,seaSide')\n",
    "rows=cursor.fetchall()\n",
    "for row in cursor : \n",
    "    print(row)\n",
    "    connn.commit()"
   ]
  },
  {
   "cell_type": "code",
   "execution_count": null,
   "metadata": {},
   "outputs": [],
   "source": [
    "cursor = connn.cursor()\n",
    "cursor.execute(\"SELECT * FROM hos_PostCode\")\n",
    "rows=cursor.fetchall()\n",
    "for row in rows :\n",
    "  print (row)\n",
    "connn.commit()"
   ]
  },
  {
   "cell_type": "code",
   "execution_count": null,
   "metadata": {},
   "outputs": [],
   "source": [
    "cursor= connn.cursor()\n",
    "cursor.execute(\"insert into hos_PostCode (hos_postcode, hos_addres) values(?,?)\" ,'YRQ 884','ALong road,eastcoast')\n",
    "rows=cursor.fetchall()\n",
    "for row in cursor : \n",
    "    print(row)\n",
    "    connn.commit()"
   ]
  },
  {
   "cell_type": "code",
   "execution_count": null,
   "metadata": {},
   "outputs": [],
   "source": [
    "cursor = connn.cursor()\n",
    "cursor.execute(\"SELECT * FROM hos_PostCode\")\n",
    "rows=cursor.fetchall()\n",
    "for row in rows :\n",
    "  print (row)\n",
    "connn.commit()"
   ]
  },
  {
   "cell_type": "code",
   "execution_count": null,
   "metadata": {},
   "outputs": [],
   "source": [
    "cursor= connn.cursor()\n",
    "cursor.execute(\"insert into hos_PostCode (hos_postcode, hos_addres) values(?,?)\" ,'79F 654','Small street,westCoast')\n",
    "rows=cursor.fetchall()\n",
    "for row in cursor : \n",
    "    print(row)\n",
    "    connn.commit()"
   ]
  },
  {
   "cell_type": "code",
   "execution_count": null,
   "metadata": {},
   "outputs": [],
   "source": [
    "cursor = connn.cursor()\n",
    "cursor.execute(\"SELECT * FROM hos_PostCode\")\n",
    "rows=cursor.fetchall()\n",
    "for row in rows :\n",
    "  print (row)\n",
    "connn.commit()"
   ]
  },
  {
   "cell_type": "code",
   "execution_count": 172,
   "metadata": {},
   "outputs": [
    {
     "name": "stdout",
     "output_type": "stream",
     "text": [
      "(100, 'hamza', None, 5555555, 'hamza@gmail.com')\n",
      "(456, 'sam', None, 1232123, 'sam@gmail.com')\n",
      "(999, 'fatih', None, 1111300, 'fatih@gmail.com')\n"
     ]
    }
   ],
   "source": [
    "cursor = connn.cursor()\n",
    "cursor.execute(\"SELECT * FROM donor\")\n",
    "rows=cursor.fetchall()\n",
    "for row in rows :\n",
    "  print (row)\n",
    "connn.commit()"
   ]
  },
  {
   "cell_type": "code",
   "execution_count": null,
   "metadata": {},
   "outputs": [],
   "source": [
    "cursor= connn.cursor()\n",
    "cursor.execute(\"insert into donor (don_id, don_name,don_phone, don_email) values(?,?,?,?)\", 456, 'sam', 1232123,'sam@gmail.com')\n",
    "rows=cursor.fetchall()\n",
    "for row in cursor : \n",
    "    print(row)\n",
    "    connn.commit()"
   ]
  },
  {
   "cell_type": "code",
   "execution_count": null,
   "metadata": {},
   "outputs": [],
   "source": [
    "cursor = connn.cursor()\n",
    "cursor.execute(\"SELECT * FROM donor\")\n",
    "rows=cursor.fetchall()\n",
    "for row in rows :\n",
    "  print (row)\n",
    "connn.commit()"
   ]
  },
  {
   "cell_type": "code",
   "execution_count": 164,
   "metadata": {},
   "outputs": [
    {
     "ename": "IntegrityError",
     "evalue": "('23000', \"[23000] [Microsoft][SQL Server Native Client 11.0][SQL Server]Violation of PRIMARY KEY constraint 'PK__donor__4C5C7F034F589C8E'. Cannot insert duplicate key in object 'dbo.donor'. The duplicate key value is (999). (2627) (SQLExecDirectW); [23000] [Microsoft][SQL Server Native Client 11.0][SQL Server]The statement has been terminated. (3621)\")",
     "output_type": "error",
     "traceback": [
      "\u001b[1;31m---------------------------------------------------------------------------\u001b[0m",
      "\u001b[1;31mIntegrityError\u001b[0m                            Traceback (most recent call last)",
      "\u001b[1;32m<ipython-input-164-7ee81682e84c>\u001b[0m in \u001b[0;36m<module>\u001b[1;34m\u001b[0m\n\u001b[0;32m      1\u001b[0m \u001b[0mcursor\u001b[0m\u001b[1;33m=\u001b[0m \u001b[0mconnn\u001b[0m\u001b[1;33m.\u001b[0m\u001b[0mcursor\u001b[0m\u001b[1;33m(\u001b[0m\u001b[1;33m)\u001b[0m\u001b[1;33m\u001b[0m\u001b[1;33m\u001b[0m\u001b[0m\n\u001b[1;32m----> 2\u001b[1;33m \u001b[0mcursor\u001b[0m\u001b[1;33m.\u001b[0m\u001b[0mexecute\u001b[0m\u001b[1;33m(\u001b[0m\u001b[1;34m\"insert into donor (don_id, don_name,don_phone, don_email) values(?,?,?,?)\"\u001b[0m\u001b[1;33m,\u001b[0m \u001b[1;36m999\u001b[0m\u001b[1;33m,\u001b[0m \u001b[1;34m'fatih'\u001b[0m\u001b[1;33m,\u001b[0m \u001b[1;36m1111300\u001b[0m\u001b[1;33m,\u001b[0m\u001b[1;34m'fatih@gmail.com'\u001b[0m\u001b[1;33m)\u001b[0m\u001b[1;33m\u001b[0m\u001b[1;33m\u001b[0m\u001b[0m\n\u001b[0m\u001b[0;32m      3\u001b[0m \u001b[0mrows\u001b[0m\u001b[1;33m=\u001b[0m\u001b[0mcursor\u001b[0m\u001b[1;33m.\u001b[0m\u001b[0mfetchall\u001b[0m\u001b[1;33m(\u001b[0m\u001b[1;33m)\u001b[0m\u001b[1;33m\u001b[0m\u001b[1;33m\u001b[0m\u001b[0m\n\u001b[0;32m      4\u001b[0m \u001b[1;32mfor\u001b[0m \u001b[0mrow\u001b[0m \u001b[1;32min\u001b[0m \u001b[0mcursor\u001b[0m \u001b[1;33m:\u001b[0m\u001b[1;33m\u001b[0m\u001b[1;33m\u001b[0m\u001b[0m\n\u001b[0;32m      5\u001b[0m     \u001b[0mprint\u001b[0m\u001b[1;33m(\u001b[0m\u001b[0mrow\u001b[0m\u001b[1;33m)\u001b[0m\u001b[1;33m\u001b[0m\u001b[1;33m\u001b[0m\u001b[0m\n",
      "\u001b[1;31mIntegrityError\u001b[0m: ('23000', \"[23000] [Microsoft][SQL Server Native Client 11.0][SQL Server]Violation of PRIMARY KEY constraint 'PK__donor__4C5C7F034F589C8E'. Cannot insert duplicate key in object 'dbo.donor'. The duplicate key value is (999). (2627) (SQLExecDirectW); [23000] [Microsoft][SQL Server Native Client 11.0][SQL Server]The statement has been terminated. (3621)\")"
     ]
    }
   ],
   "source": [
    "cursor= connn.cursor()\n",
    "cursor.execute(\"insert into donor (don_id, don_name,don_phone, don_email) values(?,?,?,?)\", 999, 'fatih', 1111300,'fatih@gmail.com')\n",
    "rows=cursor.fetchall()\n",
    "for row in cursor : \n",
    "    print(row)\n",
    "    connn.commit()"
   ]
  },
  {
   "cell_type": "code",
   "execution_count": 165,
   "metadata": {},
   "outputs": [
    {
     "ename": "IntegrityError",
     "evalue": "('23000', \"[23000] [Microsoft][SQL Server Native Client 11.0][SQL Server]Violation of PRIMARY KEY constraint 'PK__donor__4C5C7F034F589C8E'. Cannot insert duplicate key in object 'dbo.donor'. The duplicate key value is (100). (2627) (SQLExecDirectW); [23000] [Microsoft][SQL Server Native Client 11.0][SQL Server]The statement has been terminated. (3621)\")",
     "output_type": "error",
     "traceback": [
      "\u001b[1;31m---------------------------------------------------------------------------\u001b[0m",
      "\u001b[1;31mIntegrityError\u001b[0m                            Traceback (most recent call last)",
      "\u001b[1;32m<ipython-input-165-7f982f0f1527>\u001b[0m in \u001b[0;36m<module>\u001b[1;34m\u001b[0m\n\u001b[0;32m      1\u001b[0m \u001b[0mcursor\u001b[0m\u001b[1;33m=\u001b[0m \u001b[0mconnn\u001b[0m\u001b[1;33m.\u001b[0m\u001b[0mcursor\u001b[0m\u001b[1;33m(\u001b[0m\u001b[1;33m)\u001b[0m\u001b[1;33m\u001b[0m\u001b[1;33m\u001b[0m\u001b[0m\n\u001b[1;32m----> 2\u001b[1;33m \u001b[0mcursor\u001b[0m\u001b[1;33m.\u001b[0m\u001b[0mexecute\u001b[0m\u001b[1;33m(\u001b[0m\u001b[1;34m\"insert into donor (don_id, don_name,don_phone, don_email) values(?,?,?,?)\"\u001b[0m\u001b[1;33m,\u001b[0m \u001b[1;36m100\u001b[0m\u001b[1;33m,\u001b[0m \u001b[1;34m'hamza'\u001b[0m\u001b[1;33m,\u001b[0m \u001b[1;36m5555555\u001b[0m\u001b[1;33m,\u001b[0m\u001b[1;34m'hamza@gmail.com'\u001b[0m\u001b[1;33m)\u001b[0m\u001b[1;33m\u001b[0m\u001b[1;33m\u001b[0m\u001b[0m\n\u001b[0m\u001b[0;32m      3\u001b[0m \u001b[0mrows\u001b[0m\u001b[1;33m=\u001b[0m\u001b[0mcursor\u001b[0m\u001b[1;33m.\u001b[0m\u001b[0mfetchall\u001b[0m\u001b[1;33m(\u001b[0m\u001b[1;33m)\u001b[0m\u001b[1;33m\u001b[0m\u001b[1;33m\u001b[0m\u001b[0m\n\u001b[0;32m      4\u001b[0m \u001b[1;32mfor\u001b[0m \u001b[0mrow\u001b[0m \u001b[1;32min\u001b[0m \u001b[0mcursor\u001b[0m \u001b[1;33m:\u001b[0m\u001b[1;33m\u001b[0m\u001b[1;33m\u001b[0m\u001b[0m\n\u001b[0;32m      5\u001b[0m     \u001b[0mprint\u001b[0m\u001b[1;33m(\u001b[0m\u001b[0mrow\u001b[0m\u001b[1;33m)\u001b[0m\u001b[1;33m\u001b[0m\u001b[1;33m\u001b[0m\u001b[0m\n",
      "\u001b[1;31mIntegrityError\u001b[0m: ('23000', \"[23000] [Microsoft][SQL Server Native Client 11.0][SQL Server]Violation of PRIMARY KEY constraint 'PK__donor__4C5C7F034F589C8E'. Cannot insert duplicate key in object 'dbo.donor'. The duplicate key value is (100). (2627) (SQLExecDirectW); [23000] [Microsoft][SQL Server Native Client 11.0][SQL Server]The statement has been terminated. (3621)\")"
     ]
    }
   ],
   "source": [
    "cursor= connn.cursor()\n",
    "cursor.execute(\"insert into donor (don_id, don_name,don_phone, don_email) values(?,?,?,?)\", 100, 'hamza', 5555555,'hamza@gmail.com')\n",
    "rows=cursor.fetchall()\n",
    "for row in cursor : \n",
    "    print(row)\n",
    "    connn.commit()"
   ]
  },
  {
   "cell_type": "code",
   "execution_count": 166,
   "metadata": {},
   "outputs": [
    {
     "name": "stdout",
     "output_type": "stream",
     "text": [
      "(100, 'hamza', None, 5555555, 'hamza@gmail.com')\n",
      "(456, 'sam', None, 1232123, 'sam@gmail.com')\n",
      "(999, 'fatih', None, 1111300, 'fatih@gmail.com')\n"
     ]
    }
   ],
   "source": [
    "cursor = connn.cursor()\n",
    "cursor.execute(\"SELECT * FROM donor\")\n",
    "rows=cursor.fetchall()\n",
    "for row in rows :\n",
    "  print (row)\n",
    "connn.commit()"
   ]
  },
  {
   "cell_type": "code",
   "execution_count": 167,
   "metadata": {},
   "outputs": [
    {
     "ename": "ProgrammingError",
     "evalue": "('42S02', \"[42S02] [Microsoft][SQL Server Native Client 11.0][SQL Server]Invalid object name 'hos_req'. (208) (SQLExecDirectW)\")",
     "output_type": "error",
     "traceback": [
      "\u001b[1;31m---------------------------------------------------------------------------\u001b[0m",
      "\u001b[1;31mProgrammingError\u001b[0m                          Traceback (most recent call last)",
      "\u001b[1;32m<ipython-input-167-8f1c8f34e0bb>\u001b[0m in \u001b[0;36m<module>\u001b[1;34m\u001b[0m\n\u001b[0;32m      1\u001b[0m \u001b[0mcursor\u001b[0m \u001b[1;33m=\u001b[0m \u001b[0mconnn\u001b[0m\u001b[1;33m.\u001b[0m\u001b[0mcursor\u001b[0m\u001b[1;33m(\u001b[0m\u001b[1;33m)\u001b[0m\u001b[1;33m\u001b[0m\u001b[1;33m\u001b[0m\u001b[0m\n\u001b[1;32m----> 2\u001b[1;33m \u001b[0mcursor\u001b[0m\u001b[1;33m.\u001b[0m\u001b[0mexecute\u001b[0m\u001b[1;33m(\u001b[0m\u001b[1;34m\"SELECT * FROM hos_req\"\u001b[0m\u001b[1;33m)\u001b[0m\u001b[1;33m\u001b[0m\u001b[1;33m\u001b[0m\u001b[0m\n\u001b[0m\u001b[0;32m      3\u001b[0m \u001b[0mrows\u001b[0m\u001b[1;33m=\u001b[0m\u001b[0mcursor\u001b[0m\u001b[1;33m.\u001b[0m\u001b[0mfetchall\u001b[0m\u001b[1;33m(\u001b[0m\u001b[1;33m)\u001b[0m\u001b[1;33m\u001b[0m\u001b[1;33m\u001b[0m\u001b[0m\n\u001b[0;32m      4\u001b[0m \u001b[1;32mfor\u001b[0m \u001b[0mrow\u001b[0m \u001b[1;32min\u001b[0m \u001b[0mrows\u001b[0m \u001b[1;33m:\u001b[0m\u001b[1;33m\u001b[0m\u001b[1;33m\u001b[0m\u001b[0m\n\u001b[0;32m      5\u001b[0m   \u001b[0mprint\u001b[0m \u001b[1;33m(\u001b[0m\u001b[0mrow\u001b[0m\u001b[1;33m)\u001b[0m\u001b[1;33m\u001b[0m\u001b[1;33m\u001b[0m\u001b[0m\n",
      "\u001b[1;31mProgrammingError\u001b[0m: ('42S02', \"[42S02] [Microsoft][SQL Server Native Client 11.0][SQL Server]Invalid object name 'hos_req'. (208) (SQLExecDirectW)\")"
     ]
    }
   ],
   "source": [
    "cursor = connn.cursor()\n",
    "cursor.execute(\"SELECT * FROM hos_req\")\n",
    "rows=cursor.fetchall()\n",
    "for row in rows :\n",
    "  print (row)\n",
    "connn.commit()"
   ]
  },
  {
   "cell_type": "code",
   "execution_count": null,
   "metadata": {},
   "outputs": [],
   "source": []
  },
  {
   "cell_type": "code",
   "execution_count": 179,
   "metadata": {},
   "outputs": [
    {
     "name": "stdout",
     "output_type": "stream",
     "text": [
      "('A', 'checked')\n",
      "('AB', 'checked')\n",
      "('B', 'checked')\n",
      "('O', 'checked')\n"
     ]
    }
   ],
   "source": [
    "cursor = connn.cursor()\n",
    "cursor.execute(\"SELECT * FROM bloodDescription\")\n",
    "rows=cursor.fetchall()\n",
    "for row in rows :\n",
    "  print (row)\n",
    "connn.commit()"
   ]
  },
  {
   "cell_type": "code",
   "execution_count": 176,
   "metadata": {},
   "outputs": [
    {
     "ename": "ProgrammingError",
     "evalue": "No results.  Previous SQL was not a query.",
     "output_type": "error",
     "traceback": [
      "\u001b[1;31m---------------------------------------------------------------------------\u001b[0m",
      "\u001b[1;31mProgrammingError\u001b[0m                          Traceback (most recent call last)",
      "\u001b[1;32m<ipython-input-176-e4fa3cd59d50>\u001b[0m in \u001b[0;36m<module>\u001b[1;34m\u001b[0m\n\u001b[0;32m      1\u001b[0m \u001b[0mcursor\u001b[0m\u001b[1;33m=\u001b[0m \u001b[0mconnn\u001b[0m\u001b[1;33m.\u001b[0m\u001b[0mcursor\u001b[0m\u001b[1;33m(\u001b[0m\u001b[1;33m)\u001b[0m\u001b[1;33m\u001b[0m\u001b[1;33m\u001b[0m\u001b[0m\n\u001b[0;32m      2\u001b[0m \u001b[0mcursor\u001b[0m\u001b[1;33m.\u001b[0m\u001b[0mexecute\u001b[0m\u001b[1;33m(\u001b[0m\u001b[1;34m\"insert into bloodDescription (bloodBag_group,bloodBag_description ) values(?,?)\"\u001b[0m \u001b[1;33m,\u001b[0m\u001b[1;34m'B'\u001b[0m\u001b[1;33m,\u001b[0m\u001b[1;34m'checked'\u001b[0m\u001b[1;33m)\u001b[0m\u001b[1;33m\u001b[0m\u001b[1;33m\u001b[0m\u001b[0m\n\u001b[1;32m----> 3\u001b[1;33m \u001b[0mrows\u001b[0m\u001b[1;33m=\u001b[0m\u001b[0mcursor\u001b[0m\u001b[1;33m.\u001b[0m\u001b[0mfetchall\u001b[0m\u001b[1;33m(\u001b[0m\u001b[1;33m)\u001b[0m\u001b[1;33m\u001b[0m\u001b[1;33m\u001b[0m\u001b[0m\n\u001b[0m\u001b[0;32m      4\u001b[0m \u001b[1;32mfor\u001b[0m \u001b[0mrow\u001b[0m \u001b[1;32min\u001b[0m \u001b[0mcursor\u001b[0m \u001b[1;33m:\u001b[0m\u001b[1;33m\u001b[0m\u001b[1;33m\u001b[0m\u001b[0m\n\u001b[0;32m      5\u001b[0m     \u001b[0mprint\u001b[0m\u001b[1;33m(\u001b[0m\u001b[0mrow\u001b[0m\u001b[1;33m)\u001b[0m\u001b[1;33m\u001b[0m\u001b[1;33m\u001b[0m\u001b[0m\n",
      "\u001b[1;31mProgrammingError\u001b[0m: No results.  Previous SQL was not a query."
     ]
    }
   ],
   "source": [
    "cursor= connn.cursor()\n",
    "cursor.execute(\"insert into bloodDescription (bloodBag_group,bloodBag_description ) values(?,?)\" ,'B','checked')\n",
    "rows=cursor.fetchall()\n",
    "for row in cursor : \n",
    "    print(row)\n",
    "    connn.commit()"
   ]
  },
  {
   "cell_type": "code",
   "execution_count": 177,
   "metadata": {},
   "outputs": [
    {
     "ename": "ProgrammingError",
     "evalue": "No results.  Previous SQL was not a query.",
     "output_type": "error",
     "traceback": [
      "\u001b[1;31m---------------------------------------------------------------------------\u001b[0m",
      "\u001b[1;31mProgrammingError\u001b[0m                          Traceback (most recent call last)",
      "\u001b[1;32m<ipython-input-177-de3972aa2f42>\u001b[0m in \u001b[0;36m<module>\u001b[1;34m\u001b[0m\n\u001b[0;32m      1\u001b[0m \u001b[0mcursor\u001b[0m\u001b[1;33m=\u001b[0m \u001b[0mconnn\u001b[0m\u001b[1;33m.\u001b[0m\u001b[0mcursor\u001b[0m\u001b[1;33m(\u001b[0m\u001b[1;33m)\u001b[0m\u001b[1;33m\u001b[0m\u001b[1;33m\u001b[0m\u001b[0m\n\u001b[0;32m      2\u001b[0m \u001b[0mcursor\u001b[0m\u001b[1;33m.\u001b[0m\u001b[0mexecute\u001b[0m\u001b[1;33m(\u001b[0m\u001b[1;34m\"insert into bloodDescription (bloodBag_group,bloodBag_description ) values(?,?)\"\u001b[0m \u001b[1;33m,\u001b[0m\u001b[1;34m'AB'\u001b[0m\u001b[1;33m,\u001b[0m\u001b[1;34m'checked'\u001b[0m\u001b[1;33m)\u001b[0m\u001b[1;33m\u001b[0m\u001b[1;33m\u001b[0m\u001b[0m\n\u001b[1;32m----> 3\u001b[1;33m \u001b[0mrows\u001b[0m\u001b[1;33m=\u001b[0m\u001b[0mcursor\u001b[0m\u001b[1;33m.\u001b[0m\u001b[0mfetchall\u001b[0m\u001b[1;33m(\u001b[0m\u001b[1;33m)\u001b[0m\u001b[1;33m\u001b[0m\u001b[1;33m\u001b[0m\u001b[0m\n\u001b[0m\u001b[0;32m      4\u001b[0m \u001b[1;32mfor\u001b[0m \u001b[0mrow\u001b[0m \u001b[1;32min\u001b[0m \u001b[0mcursor\u001b[0m \u001b[1;33m:\u001b[0m\u001b[1;33m\u001b[0m\u001b[1;33m\u001b[0m\u001b[0m\n\u001b[0;32m      5\u001b[0m     \u001b[0mprint\u001b[0m\u001b[1;33m(\u001b[0m\u001b[0mrow\u001b[0m\u001b[1;33m)\u001b[0m\u001b[1;33m\u001b[0m\u001b[1;33m\u001b[0m\u001b[0m\n",
      "\u001b[1;31mProgrammingError\u001b[0m: No results.  Previous SQL was not a query."
     ]
    }
   ],
   "source": [
    "cursor= connn.cursor()\n",
    "cursor.execute(\"insert into bloodDescription (bloodBag_group,bloodBag_description ) values(?,?)\" ,'AB','checked')\n",
    "rows=cursor.fetchall()\n",
    "for row in cursor : \n",
    "    print(row)\n",
    "    connn.commit()"
   ]
  },
  {
   "cell_type": "code",
   "execution_count": 178,
   "metadata": {},
   "outputs": [
    {
     "ename": "ProgrammingError",
     "evalue": "No results.  Previous SQL was not a query.",
     "output_type": "error",
     "traceback": [
      "\u001b[1;31m---------------------------------------------------------------------------\u001b[0m",
      "\u001b[1;31mProgrammingError\u001b[0m                          Traceback (most recent call last)",
      "\u001b[1;32m<ipython-input-178-3f8c0a540de9>\u001b[0m in \u001b[0;36m<module>\u001b[1;34m\u001b[0m\n\u001b[0;32m      1\u001b[0m \u001b[0mcursor\u001b[0m\u001b[1;33m=\u001b[0m \u001b[0mconnn\u001b[0m\u001b[1;33m.\u001b[0m\u001b[0mcursor\u001b[0m\u001b[1;33m(\u001b[0m\u001b[1;33m)\u001b[0m\u001b[1;33m\u001b[0m\u001b[1;33m\u001b[0m\u001b[0m\n\u001b[0;32m      2\u001b[0m \u001b[0mcursor\u001b[0m\u001b[1;33m.\u001b[0m\u001b[0mexecute\u001b[0m\u001b[1;33m(\u001b[0m\u001b[1;34m\"insert into bloodDescription (bloodBag_group,bloodBag_description ) values(?,?)\"\u001b[0m \u001b[1;33m,\u001b[0m\u001b[1;34m'O'\u001b[0m\u001b[1;33m,\u001b[0m\u001b[1;34m'checked'\u001b[0m\u001b[1;33m)\u001b[0m\u001b[1;33m\u001b[0m\u001b[1;33m\u001b[0m\u001b[0m\n\u001b[1;32m----> 3\u001b[1;33m \u001b[0mrows\u001b[0m\u001b[1;33m=\u001b[0m\u001b[0mcursor\u001b[0m\u001b[1;33m.\u001b[0m\u001b[0mfetchall\u001b[0m\u001b[1;33m(\u001b[0m\u001b[1;33m)\u001b[0m\u001b[1;33m\u001b[0m\u001b[1;33m\u001b[0m\u001b[0m\n\u001b[0m\u001b[0;32m      4\u001b[0m \u001b[1;32mfor\u001b[0m \u001b[0mrow\u001b[0m \u001b[1;32min\u001b[0m \u001b[0mcursor\u001b[0m \u001b[1;33m:\u001b[0m\u001b[1;33m\u001b[0m\u001b[1;33m\u001b[0m\u001b[0m\n\u001b[0;32m      5\u001b[0m     \u001b[0mprint\u001b[0m\u001b[1;33m(\u001b[0m\u001b[0mrow\u001b[0m\u001b[1;33m)\u001b[0m\u001b[1;33m\u001b[0m\u001b[1;33m\u001b[0m\u001b[0m\n",
      "\u001b[1;31mProgrammingError\u001b[0m: No results.  Previous SQL was not a query."
     ]
    }
   ],
   "source": [
    "cursor= connn.cursor()\n",
    "cursor.execute(\"insert into bloodDescription (bloodBag_group,bloodBag_description ) values(?,?)\" ,'O','checked')\n",
    "rows=cursor.fetchall()\n",
    "for row in cursor : \n",
    "    print(row)\n",
    "    connn.commit()"
   ]
  },
  {
   "cell_type": "code",
   "execution_count": 180,
   "metadata": {},
   "outputs": [],
   "source": [
    "cursor = connn.cursor()\n",
    "cursor.execute(\"SELECT * FROM nurse\")\n",
    "rows=cursor.fetchall()\n",
    "for row in rows :\n",
    "  print (row)\n",
    "connn.commit()"
   ]
  },
  {
   "cell_type": "code",
   "execution_count": 184,
   "metadata": {},
   "outputs": [],
   "source": [
    "cursor = connn.cursor()\n",
    "cursor.execute(\"SELECT * FROM hospital\")\n",
    "rows=cursor.fetchall()\n",
    "for row in rows :\n",
    "  print (row)\n",
    "connn.commit()"
   ]
  },
  {
   "cell_type": "code",
   "execution_count": 185,
   "metadata": {},
   "outputs": [
    {
     "ename": "ProgrammingError",
     "evalue": "No results.  Previous SQL was not a query.",
     "output_type": "error",
     "traceback": [
      "\u001b[1;31m---------------------------------------------------------------------------\u001b[0m",
      "\u001b[1;31mProgrammingError\u001b[0m                          Traceback (most recent call last)",
      "\u001b[1;32m<ipython-input-185-e90d3376c97d>\u001b[0m in \u001b[0;36m<module>\u001b[1;34m\u001b[0m\n\u001b[0;32m      1\u001b[0m \u001b[0mcursor\u001b[0m\u001b[1;33m=\u001b[0m \u001b[0mconnn\u001b[0m\u001b[1;33m.\u001b[0m\u001b[0mcursor\u001b[0m\u001b[1;33m(\u001b[0m\u001b[1;33m)\u001b[0m\u001b[1;33m\u001b[0m\u001b[1;33m\u001b[0m\u001b[0m\n\u001b[0;32m      2\u001b[0m \u001b[0mcursor\u001b[0m\u001b[1;33m.\u001b[0m\u001b[0mexecute\u001b[0m\u001b[1;33m(\u001b[0m\u001b[1;34m\"insert into hospital (hos_id,hos_name, hos_postcode, hos_website, hos_phone) values(?,?,?,?,?)\"\u001b[0m \u001b[1;33m,\u001b[0m\u001b[1;36m1\u001b[0m\u001b[1;33m,\u001b[0m \u001b[1;34m'Reunion'\u001b[0m\u001b[1;33m,\u001b[0m\u001b[1;34m'BK7 849'\u001b[0m\u001b[1;33m,\u001b[0m\u001b[1;34m'union.com'\u001b[0m\u001b[1;33m,\u001b[0m\u001b[1;36m1234563\u001b[0m\u001b[1;33m)\u001b[0m\u001b[1;33m\u001b[0m\u001b[1;33m\u001b[0m\u001b[0m\n\u001b[1;32m----> 3\u001b[1;33m \u001b[0mrows\u001b[0m\u001b[1;33m=\u001b[0m\u001b[0mcursor\u001b[0m\u001b[1;33m.\u001b[0m\u001b[0mfetchall\u001b[0m\u001b[1;33m(\u001b[0m\u001b[1;33m)\u001b[0m\u001b[1;33m\u001b[0m\u001b[1;33m\u001b[0m\u001b[0m\n\u001b[0m\u001b[0;32m      4\u001b[0m \u001b[1;32mfor\u001b[0m \u001b[0mrow\u001b[0m \u001b[1;32min\u001b[0m \u001b[0mcursor\u001b[0m \u001b[1;33m:\u001b[0m\u001b[1;33m\u001b[0m\u001b[1;33m\u001b[0m\u001b[0m\n\u001b[0;32m      5\u001b[0m     \u001b[0mprint\u001b[0m\u001b[1;33m(\u001b[0m\u001b[0mrow\u001b[0m\u001b[1;33m)\u001b[0m\u001b[1;33m\u001b[0m\u001b[1;33m\u001b[0m\u001b[0m\n",
      "\u001b[1;31mProgrammingError\u001b[0m: No results.  Previous SQL was not a query."
     ]
    }
   ],
   "source": [
    "cursor= connn.cursor()\n",
    "cursor.execute(\"insert into hospital (hos_id,hos_name, hos_postcode, hos_website, hos_phone) values(?,?,?,?,?)\" ,1, 'Reunion','BK7 849','union.com',1234563)\n",
    "rows=cursor.fetchall()\n",
    "for row in cursor : \n",
    "    print(row)\n",
    "    connn.commit()"
   ]
  },
  {
   "cell_type": "code",
   "execution_count": 186,
   "metadata": {},
   "outputs": [
    {
     "data": {
      "text/plain": [
       "<pyodbc.Cursor at 0x1aa068470b0>"
      ]
     },
     "execution_count": 186,
     "metadata": {},
     "output_type": "execute_result"
    }
   ],
   "source": [
    "cursor= connn.cursor()\n",
    "cursor.execute(\"insert into hospital (hos_id,hos_name, hos_postcode, hos_website, hos_phone) values(?,?,?,?,?)\" ,2, 'laptop hospital','LO8 321','laptophosp.com',199732)\n"
   ]
  },
  {
   "cell_type": "code",
   "execution_count": 187,
   "metadata": {},
   "outputs": [
    {
     "name": "stdout",
     "output_type": "stream",
     "text": [
      "(1, 'Reunion', 'BK7 849', 'union.com', 1234563)\n",
      "(2, 'laptop hospital', 'LO8 321', 'laptophosp.com', 199732)\n"
     ]
    }
   ],
   "source": [
    "cursor = connn.cursor()\n",
    "cursor.execute(\"SELECT * FROM hospital\")\n",
    "rows=cursor.fetchall()\n",
    "for row in rows :\n",
    "  print (row)\n",
    "connn.commit()"
   ]
  },
  {
   "cell_type": "code",
   "execution_count": 188,
   "metadata": {},
   "outputs": [
    {
     "data": {
      "text/plain": [
       "<pyodbc.Cursor at 0x1aa06c7a730>"
      ]
     },
     "execution_count": 188,
     "metadata": {},
     "output_type": "execute_result"
    }
   ],
   "source": [
    "cursor= connn.cursor()\n",
    "cursor.execute(\"insert into hospital (hos_id,hos_name, hos_postcode, hos_website, hos_phone) values(?,?,?,?,?)\" ,3, 'bakirkoy hospital','LU6 555','bakirhosp.com',1234567)\n"
   ]
  },
  {
   "cell_type": "code",
   "execution_count": 189,
   "metadata": {},
   "outputs": [
    {
     "name": "stdout",
     "output_type": "stream",
     "text": [
      "(1, 'Reunion', 'BK7 849', 'union.com', 1234563)\n",
      "(2, 'laptop hospital', 'LO8 321', 'laptophosp.com', 199732)\n",
      "(3, 'bakirkoy hospital', 'LU6 555', 'bakirhosp.com', 1234567)\n"
     ]
    }
   ],
   "source": [
    "cursor = connn.cursor()\n",
    "cursor.execute(\"SELECT * FROM hospital\")\n",
    "rows=cursor.fetchall()\n",
    "for row in rows :\n",
    "  print (row)\n",
    "connn.commit()"
   ]
  },
  {
   "cell_type": "code",
   "execution_count": 190,
   "metadata": {},
   "outputs": [
    {
     "data": {
      "text/plain": [
       "<pyodbc.Cursor at 0x1aa06c7a830>"
      ]
     },
     "execution_count": 190,
     "metadata": {},
     "output_type": "execute_result"
    }
   ],
   "source": [
    "cursor= connn.cursor()\n",
    "cursor.execute(\"insert into nurse (nurse_id,nurse_name, nurse_shift,hos_id) values(?,?,?,?)\" ,3, 'maya hassan','day shift',3)\n"
   ]
  },
  {
   "cell_type": "code",
   "execution_count": 191,
   "metadata": {},
   "outputs": [
    {
     "data": {
      "text/plain": [
       "<pyodbc.Cursor at 0x1aa06c7a6b0>"
      ]
     },
     "execution_count": 191,
     "metadata": {},
     "output_type": "execute_result"
    }
   ],
   "source": [
    "cursor= connn.cursor()\n",
    "cursor.execute(\"insert into nurse (nurse_id,nurse_name, nurse_shift,hos_id) values(?,?,?,?)\" ,43, 'zayn ali','night shift',3)"
   ]
  },
  {
   "cell_type": "code",
   "execution_count": 192,
   "metadata": {},
   "outputs": [
    {
     "data": {
      "text/plain": [
       "<pyodbc.Cursor at 0x1aa06c7a930>"
      ]
     },
     "execution_count": 192,
     "metadata": {},
     "output_type": "execute_result"
    }
   ],
   "source": [
    "cursor= connn.cursor()\n",
    "cursor.execute(\"insert into nurse (nurse_id,nurse_name, nurse_shift,hos_id) values(?,?,?,?)\" ,1, 'sofi lu','day shift',1)"
   ]
  },
  {
   "cell_type": "code",
   "execution_count": 193,
   "metadata": {},
   "outputs": [
    {
     "data": {
      "text/plain": [
       "<pyodbc.Cursor at 0x1aa06c7aa30>"
      ]
     },
     "execution_count": 193,
     "metadata": {},
     "output_type": "execute_result"
    }
   ],
   "source": [
    "cursor= connn.cursor()\n",
    "cursor.execute(\"insert into nurse (nurse_id,nurse_name, nurse_shift,hos_id) values(?,?,?,?)\" ,100, 'runi lan','night shift',2)"
   ]
  },
  {
   "cell_type": "code",
   "execution_count": 194,
   "metadata": {},
   "outputs": [
    {
     "data": {
      "text/plain": [
       "<pyodbc.Cursor at 0x1aa06c7ab30>"
      ]
     },
     "execution_count": 194,
     "metadata": {},
     "output_type": "execute_result"
    }
   ],
   "source": [
    "cursor= connn.cursor()\n",
    "cursor.execute(\"insert into nurse (nurse_id,nurse_name, nurse_shift,hos_id) values(?,?,?,?)\" ,28, 'angie kan','day shift',1)"
   ]
  },
  {
   "cell_type": "code",
   "execution_count": 195,
   "metadata": {},
   "outputs": [
    {
     "name": "stdout",
     "output_type": "stream",
     "text": [
      "(1, 'sofi lu', 'day shift', 1)\n",
      "(3, 'maya hassan', 'day shift', 3)\n",
      "(28, 'angie kan', 'day shift', 1)\n",
      "(43, 'zayn ali', 'night shift', 3)\n",
      "(100, 'runi lan', 'night shift', 2)\n"
     ]
    }
   ],
   "source": [
    "cursor = connn.cursor()\n",
    "cursor.execute(\"SELECT * FROM nurse\")\n",
    "rows=cursor.fetchall()\n",
    "for row in rows :\n",
    "  print (row)\n",
    "connn.commit()"
   ]
  },
  {
   "cell_type": "code",
   "execution_count": 207,
   "metadata": {},
   "outputs": [
    {
     "data": {
      "text/plain": [
       "<pyodbc.Cursor at 0x1aa06caa230>"
      ]
     },
     "execution_count": 207,
     "metadata": {},
     "output_type": "execute_result"
    }
   ],
   "source": [
    "now = datetime.datetime(2009, 5, 5)\n",
    "cursor= connn.cursor()\n",
    "cursor.execute(\"insert into request (req_id,req_date, req_num ,lab_id) values(?,?,?,?)\" ,28, now,100,2)"
   ]
  },
  {
   "cell_type": "code",
   "execution_count": 208,
   "metadata": {},
   "outputs": [
    {
     "data": {
      "text/plain": [
       "<pyodbc.Cursor at 0x1aa06caa030>"
      ]
     },
     "execution_count": 208,
     "metadata": {},
     "output_type": "execute_result"
    }
   ],
   "source": [
    "now = datetime.datetime(2019, 5, 4)\n",
    "cursor= connn.cursor()\n",
    "cursor.execute(\"insert into request (req_id,req_date, req_num ,lab_id) values(?,?,?,?)\" ,39, now,101,43)"
   ]
  },
  {
   "cell_type": "code",
   "execution_count": 209,
   "metadata": {},
   "outputs": [
    {
     "data": {
      "text/plain": [
       "<pyodbc.Cursor at 0x1aa06caa330>"
      ]
     },
     "execution_count": 209,
     "metadata": {},
     "output_type": "execute_result"
    }
   ],
   "source": [
    "now = datetime.datetime(2019, 6, 4)\n",
    "cursor= connn.cursor()\n",
    "cursor.execute(\"insert into request (req_id,req_date, req_num ,lab_id) values(?,?,?,?)\" ,21, now,102,100)"
   ]
  },
  {
   "cell_type": "code",
   "execution_count": 210,
   "metadata": {},
   "outputs": [
    {
     "name": "stdout",
     "output_type": "stream",
     "text": [
      "(21, datetime.date(2019, 6, 4), 102, 100)\n",
      "(28, datetime.date(2009, 5, 5), 100, 2)\n",
      "(39, datetime.date(2019, 5, 4), 101, 43)\n"
     ]
    }
   ],
   "source": [
    "cursor = connn.cursor()\n",
    "cursor.execute(\"SELECT * FROM request\")\n",
    "rows=cursor.fetchall()\n",
    "for row in rows :\n",
    "  print (row)\n",
    "connn.commit()"
   ]
  },
  {
   "cell_type": "code",
   "execution_count": 211,
   "metadata": {},
   "outputs": [
    {
     "data": {
      "text/plain": [
       "<pyodbc.Cursor at 0x1aa06caa4b0>"
      ]
     },
     "execution_count": 211,
     "metadata": {},
     "output_type": "execute_result"
    }
   ],
   "source": [
    "cursor= connn.cursor()\n",
    "cursor.execute(\"insert into receptionist (receptionist_id,receptionist_name, receptionist_shift ,hos_id) values(?,?,?,?)\" ,21, 'Mariam ali','day shift',1)"
   ]
  },
  {
   "cell_type": "code",
   "execution_count": 212,
   "metadata": {},
   "outputs": [
    {
     "data": {
      "text/plain": [
       "<pyodbc.Cursor at 0x1aa06caa530>"
      ]
     },
     "execution_count": 212,
     "metadata": {},
     "output_type": "execute_result"
    }
   ],
   "source": [
    "cursor= connn.cursor()\n",
    "cursor.execute(\"insert into receptionist (receptionist_id,receptionist_name, receptionist_shift ,hos_id) values(?,?,?,?)\" ,22, 'Sami ali','day shift',1)"
   ]
  },
  {
   "cell_type": "code",
   "execution_count": 213,
   "metadata": {},
   "outputs": [
    {
     "data": {
      "text/plain": [
       "<pyodbc.Cursor at 0x1aa06caa5b0>"
      ]
     },
     "execution_count": 213,
     "metadata": {},
     "output_type": "execute_result"
    }
   ],
   "source": [
    "cursor= connn.cursor()\n",
    "cursor.execute(\"insert into receptionist (receptionist_id,receptionist_name, receptionist_shift ,hos_id) values(?,?,?,?)\" ,23, 'mohamed ali','night shift',1)"
   ]
  },
  {
   "cell_type": "code",
   "execution_count": 214,
   "metadata": {},
   "outputs": [
    {
     "data": {
      "text/plain": [
       "<pyodbc.Cursor at 0x1aa06caa3b0>"
      ]
     },
     "execution_count": 214,
     "metadata": {},
     "output_type": "execute_result"
    }
   ],
   "source": [
    "cursor= connn.cursor()\n",
    "cursor.execute(\"insert into receptionist (receptionist_id,receptionist_name, receptionist_shift ,hos_id) values(?,?,?,?)\" ,24, 'yunus un','day shift',2)"
   ]
  },
  {
   "cell_type": "code",
   "execution_count": 215,
   "metadata": {},
   "outputs": [
    {
     "data": {
      "text/plain": [
       "<pyodbc.Cursor at 0x1aa06caa630>"
      ]
     },
     "execution_count": 215,
     "metadata": {},
     "output_type": "execute_result"
    }
   ],
   "source": [
    "cursor= connn.cursor()\n",
    "cursor.execute(\"insert into receptionist (receptionist_id,receptionist_name, receptionist_shift ,hos_id) values(?,?,?,?)\" ,25, 'safi jo','night shift',2)"
   ]
  },
  {
   "cell_type": "code",
   "execution_count": 216,
   "metadata": {},
   "outputs": [
    {
     "data": {
      "text/plain": [
       "<pyodbc.Cursor at 0x1aa06caa6b0>"
      ]
     },
     "execution_count": 216,
     "metadata": {},
     "output_type": "execute_result"
    }
   ],
   "source": [
    "cursor= connn.cursor()\n",
    "cursor.execute(\"insert into receptionist (receptionist_id,receptionist_name, receptionist_shift ,hos_id) values(?,?,?,?)\" ,26, 'harry will','night shift',2)"
   ]
  },
  {
   "cell_type": "code",
   "execution_count": 217,
   "metadata": {},
   "outputs": [
    {
     "data": {
      "text/plain": [
       "<pyodbc.Cursor at 0x1aa06caa730>"
      ]
     },
     "execution_count": 217,
     "metadata": {},
     "output_type": "execute_result"
    }
   ],
   "source": [
    "cursor= connn.cursor()\n",
    "cursor.execute(\"insert into receptionist (receptionist_id,receptionist_name, receptionist_shift ,hos_id) values(?,?,?,?)\" ,27, 'jack wang','day shift',3)"
   ]
  },
  {
   "cell_type": "code",
   "execution_count": 218,
   "metadata": {},
   "outputs": [
    {
     "name": "stdout",
     "output_type": "stream",
     "text": [
      "(21, 'Mariam ali', 'day shift', 1)\n",
      "(22, 'Sami ali', 'day shift', 1)\n",
      "(23, 'mohamed ali', 'night shift', 1)\n",
      "(24, 'yunus un', 'day shift', 2)\n",
      "(25, 'safi jo', 'night shift', 2)\n",
      "(26, 'harry will', 'night shift', 2)\n",
      "(27, 'jack wang', 'day shift', 3)\n"
     ]
    }
   ],
   "source": [
    "cursor = connn.cursor()\n",
    "cursor.execute(\"SELECT * FROM receptionist\")\n",
    "rows=cursor.fetchall()\n",
    "for row in rows :\n",
    "  print (row)\n",
    "connn.commit()"
   ]
  },
  {
   "cell_type": "code",
   "execution_count": 219,
   "metadata": {},
   "outputs": [
    {
     "data": {
      "text/plain": [
       "<pyodbc.Cursor at 0x1aa06caa830>"
      ]
     },
     "execution_count": 219,
     "metadata": {},
     "output_type": "execute_result"
    }
   ],
   "source": [
    "cursor= connn.cursor()\n",
    "cursor.execute(\"insert into hos_req (req_id , hos_id) values(?,?)\" ,21, 1)"
   ]
  },
  {
   "cell_type": "code",
   "execution_count": 220,
   "metadata": {},
   "outputs": [
    {
     "data": {
      "text/plain": [
       "<pyodbc.Cursor at 0x1aa06caa7b0>"
      ]
     },
     "execution_count": 220,
     "metadata": {},
     "output_type": "execute_result"
    }
   ],
   "source": [
    "cursor= connn.cursor()\n",
    "cursor.execute(\"insert into hos_req (req_id , hos_id) values(?,?)\" ,28, 2)"
   ]
  },
  {
   "cell_type": "code",
   "execution_count": 221,
   "metadata": {},
   "outputs": [
    {
     "data": {
      "text/plain": [
       "<pyodbc.Cursor at 0x1aa06c7acb0>"
      ]
     },
     "execution_count": 221,
     "metadata": {},
     "output_type": "execute_result"
    }
   ],
   "source": [
    "cursor= connn.cursor()\n",
    "cursor.execute(\"insert into hos_req (req_id , hos_id) values(?,?)\" ,39, 3)"
   ]
  },
  {
   "cell_type": "code",
   "execution_count": 222,
   "metadata": {},
   "outputs": [
    {
     "name": "stdout",
     "output_type": "stream",
     "text": [
      "(21, 1)\n",
      "(28, 2)\n",
      "(39, 3)\n"
     ]
    }
   ],
   "source": [
    "cursor = connn.cursor()\n",
    "cursor.execute(\"SELECT * FROM hos_req\")\n",
    "rows=cursor.fetchall()\n",
    "for row in rows :\n",
    "  print (row)\n",
    "connn.commit()"
   ]
  },
  {
   "cell_type": "code",
   "execution_count": 223,
   "metadata": {},
   "outputs": [
    {
     "data": {
      "text/plain": [
       "<pyodbc.Cursor at 0x1aa06caa8b0>"
      ]
     },
     "execution_count": 223,
     "metadata": {},
     "output_type": "execute_result"
    }
   ],
   "source": [
    "cursor= connn.cursor()\n",
    "cursor.execute(\"insert into patient(patient_id ,patient_name, patient_gender,patient_age,patient_bloodType,hos_id, nurse_id) values(?,?,?,?,?,?,?)\" ,39, 'Holly bo', 'female', 23,'A',1,1)"
   ]
  },
  {
   "cell_type": "code",
   "execution_count": 224,
   "metadata": {},
   "outputs": [
    {
     "data": {
      "text/plain": [
       "<pyodbc.Cursor at 0x1aa06c7ac30>"
      ]
     },
     "execution_count": 224,
     "metadata": {},
     "output_type": "execute_result"
    }
   ],
   "source": [
    "cursor= connn.cursor()\n",
    "cursor.execute(\"insert into patient(patient_id ,patient_name, patient_gender,patient_age,patient_bloodType,hos_id, nurse_id) values(?,?,?,?,?,?,?)\" ,54, 'Gil filly', 'female', 43,'B',1,1)"
   ]
  },
  {
   "cell_type": "code",
   "execution_count": 225,
   "metadata": {},
   "outputs": [
    {
     "data": {
      "text/plain": [
       "<pyodbc.Cursor at 0x1aa06caaa30>"
      ]
     },
     "execution_count": 225,
     "metadata": {},
     "output_type": "execute_result"
    }
   ],
   "source": [
    "cursor= connn.cursor()\n",
    "cursor.execute(\"insert into patient(patient_id ,patient_name, patient_gender,patient_age,patient_bloodType,hos_id, nurse_id) values(?,?,?,?,?,?,?)\" ,423, 'kareem salah', 'male', 14,'A',1,1)"
   ]
  },
  {
   "cell_type": "code",
   "execution_count": 226,
   "metadata": {},
   "outputs": [
    {
     "data": {
      "text/plain": [
       "<pyodbc.Cursor at 0x1aa06caa9b0>"
      ]
     },
     "execution_count": 226,
     "metadata": {},
     "output_type": "execute_result"
    }
   ],
   "source": [
    "cursor= connn.cursor()\n",
    "cursor.execute(\"insert into patient(patient_id ,patient_name, patient_gender,patient_age,patient_bloodType,hos_id, nurse_id) values(?,?,?,?,?,?,?)\" ,2, 'ahmed mo', 'male', 57,'O',3,3)"
   ]
  },
  {
   "cell_type": "code",
   "execution_count": 227,
   "metadata": {},
   "outputs": [
    {
     "data": {
      "text/plain": [
       "<pyodbc.Cursor at 0x1aa06caaab0>"
      ]
     },
     "execution_count": 227,
     "metadata": {},
     "output_type": "execute_result"
    }
   ],
   "source": [
    "cursor= connn.cursor()\n",
    "cursor.execute(\"insert into patient(patient_id ,patient_name, patient_gender,patient_age,patient_bloodType,hos_id, nurse_id) values(?,?,?,?,?,?,?)\" ,763, 'lee wong', 'male', 67,'A',3,3)"
   ]
  },
  {
   "cell_type": "code",
   "execution_count": 228,
   "metadata": {},
   "outputs": [
    {
     "data": {
      "text/plain": [
       "<pyodbc.Cursor at 0x1aa06caab30>"
      ]
     },
     "execution_count": 228,
     "metadata": {},
     "output_type": "execute_result"
    }
   ],
   "source": [
    "cursor= connn.cursor()\n",
    "cursor.execute(\"insert into patient(patient_id ,patient_name, patient_gender,patient_age,patient_bloodType,hos_id, nurse_id) values(?,?,?,?,?,?,?)\" ,421, 'sumaya ahmed', 'female', 26,'A',1,28)"
   ]
  },
  {
   "cell_type": "code",
   "execution_count": 229,
   "metadata": {},
   "outputs": [
    {
     "data": {
      "text/plain": [
       "<pyodbc.Cursor at 0x1aa06caac30>"
      ]
     },
     "execution_count": 229,
     "metadata": {},
     "output_type": "execute_result"
    }
   ],
   "source": [
    "cursor= connn.cursor()\n",
    "cursor.execute(\"insert into patient(patient_id ,patient_name, patient_gender,patient_age,patient_bloodType,hos_id, nurse_id) values(?,?,?,?,?,?,?)\" ,11, 'abdi noor', 'male', 20,'B',2,100)"
   ]
  },
  {
   "cell_type": "code",
   "execution_count": 230,
   "metadata": {},
   "outputs": [
    {
     "data": {
      "text/plain": [
       "<pyodbc.Cursor at 0x1aa06caacb0>"
      ]
     },
     "execution_count": 230,
     "metadata": {},
     "output_type": "execute_result"
    }
   ],
   "source": [
    "cursor= connn.cursor()\n",
    "cursor.execute(\"insert into patient(patient_id ,patient_name, patient_gender,patient_age,patient_bloodType,hos_id, nurse_id) values(?,?,?,?,?,?,?)\" ,112, 'faiza el', 'female', 30,'B',2,100)"
   ]
  },
  {
   "cell_type": "code",
   "execution_count": 231,
   "metadata": {},
   "outputs": [
    {
     "name": "stdout",
     "output_type": "stream",
     "text": [
      "(2, 'ahmed mo', 'male', 57, 'O', 3, 3)\n",
      "(11, 'abdi noor', 'male', 20, 'B', 2, 100)\n",
      "(39, 'Holly bo', 'female', 23, 'A', 1, 1)\n",
      "(54, 'Gil filly', 'female', 43, 'B', 1, 1)\n",
      "(112, 'faiza el', 'female', 30, 'B', 2, 100)\n",
      "(421, 'sumaya ahmed', 'female', 26, 'A', 1, 28)\n",
      "(423, 'kareem salah', 'male', 14, 'A', 1, 1)\n",
      "(763, 'lee wong', 'male', 67, 'A', 3, 3)\n"
     ]
    }
   ],
   "source": [
    "cursor = connn.cursor()\n",
    "cursor.execute(\"SELECT * FROM patient\")\n",
    "rows=cursor.fetchall()\n",
    "for row in rows :\n",
    "  print (row)\n",
    "connn.commit()"
   ]
  },
  {
   "cell_type": "code",
   "execution_count": 234,
   "metadata": {},
   "outputs": [
    {
     "data": {
      "text/plain": [
       "<pyodbc.Cursor at 0x1aa06ca2130>"
      ]
     },
     "execution_count": 234,
     "metadata": {},
     "output_type": "execute_result"
    }
   ],
   "source": [
    "cursor= connn.cursor()\n",
    "cursor.execute(\"insert into stock (stock_id , stock_anount, bloodBag_group) values(?,?,?)\" ,11107,300, 'A')\n",
    "cursor.execute(\"insert into stock (stock_id , stock_anount, bloodBag_group) values(?,?,?)\" ,11108,100, 'B')\n",
    "cursor.execute(\"insert into stock (stock_id , stock_anount, bloodBag_group) values(?,?,?)\" ,11109,150, 'O')\n",
    "cursor.execute(\"insert into stock (stock_id , stock_anount, bloodBag_group) values(?,?,?)\" ,11120,200, 'AB')"
   ]
  },
  {
   "cell_type": "code",
   "execution_count": 235,
   "metadata": {},
   "outputs": [
    {
     "name": "stdout",
     "output_type": "stream",
     "text": [
      "(11107, 300, 'A')\n",
      "(11108, 100, 'B')\n",
      "(11109, 150, 'O')\n",
      "(11120, 200, 'AB')\n"
     ]
    }
   ],
   "source": [
    "cursor = connn.cursor()\n",
    "cursor.execute(\"SELECT * FROM stock\")\n",
    "rows=cursor.fetchall()\n",
    "for row in rows :\n",
    "  print (row)\n",
    "connn.commit()"
   ]
  },
  {
   "cell_type": "code",
   "execution_count": 238,
   "metadata": {},
   "outputs": [
    {
     "data": {
      "text/plain": [
       "<pyodbc.Cursor at 0x1aa06caad30>"
      ]
     },
     "execution_count": 238,
     "metadata": {},
     "output_type": "execute_result"
    }
   ],
   "source": [
    "cursor= connn.cursor()\n",
    "cursor.execute(\"insert into bloodBank (bloodBank_id,bloodBank_name,bloodBank_phone,bloodBank_address,stock_id) values(?,?,?,?,?)\", 12,'new BloodBank',1234532,'door 1,west street',11107)\n",
    "cursor.execute(\"insert into bloodBank (bloodBank_id,bloodBank_name,bloodBank_phone,bloodBank_address,stock_id) values(?,?,?,?,?)\", 14,'westside BloodBank',9090909,'door 23,upper street',11107)\n",
    "cursor.execute(\"insert into bloodBank (bloodBank_id,bloodBank_name,bloodBank_phone,bloodBank_address,stock_id) values(?,?,?,?,?)\", 193,'redrod BloodBank',11144111,'door 79, downtown',11108)"
   ]
  },
  {
   "cell_type": "code",
   "execution_count": 240,
   "metadata": {},
   "outputs": [
    {
     "name": "stdout",
     "output_type": "stream",
     "text": [
      "(12, 'new BloodBank', 1234532, 'door 1,west street', 11107)\n",
      "(14, 'westside BloodBank', 9090909, 'door 23,upper street', 11107)\n",
      "(193, 'redrod BloodBank', 11144111, 'door 79, downtown', 11108)\n"
     ]
    }
   ],
   "source": [
    "cursor = connn.cursor()\n",
    "cursor.execute(\"SELECT * FROM bloodBank\")\n",
    "rows=cursor.fetchall()\n",
    "for row in rows :\n",
    "  print (row)\n",
    "connn.commit()"
   ]
  },
  {
   "cell_type": "code",
   "execution_count": 243,
   "metadata": {},
   "outputs": [
    {
     "data": {
      "text/plain": [
       "<pyodbc.Cursor at 0x1aa06ca2330>"
      ]
     },
     "execution_count": 243,
     "metadata": {},
     "output_type": "execute_result"
    }
   ],
   "source": [
    "now = datetime.datetime(2020, 1, 6)\n",
    "now1 = datetime.datetime(2019, 1, 10)\n",
    "now2 = datetime.datetime(2019, 1, 7)\n",
    "now3 = datetime.datetime(2019, 1, 4)\n",
    "now4 = datetime.datetime(2019, 1, 3)\n",
    "now5 = datetime.datetime(2019, 2,12 )\n",
    "cursor= connn.cursor()\n",
    "cursor.execute(\"insert into bloodBags (bloodBag_id,bloodBag_group,bloodBag_Exp,bloodBank_id,lab_id) values(?,?,?,?,?)\", 12,'A',now, 12 ,2)\n",
    "cursor.execute(\"insert into bloodBags (bloodBag_id,bloodBag_group,bloodBag_Exp,bloodBank_id,lab_id) values(?,?,?,?,?)\", 19,'A',now1, 12 ,43)\n",
    "cursor.execute(\"insert into bloodBags (bloodBag_id,bloodBag_group,bloodBag_Exp,bloodBank_id,lab_id) values(?,?,?,?,?)\", 342,'B',now2, 193 ,43)\n",
    "cursor.execute(\"insert into bloodBags (bloodBag_id,bloodBag_group,bloodBag_Exp,bloodBank_id,lab_id) values(?,?,?,?,?)\", 135,'B',now, 12 ,100)\n",
    "cursor.execute(\"insert into bloodBags (bloodBag_id,bloodBag_group,bloodBag_Exp,bloodBank_id,lab_id) values(?,?,?,?,?)\", 164,'A',now4, 14 ,100)\n",
    "cursor.execute(\"insert into bloodBags (bloodBag_id,bloodBag_group,bloodBag_Exp,bloodBank_id,lab_id) values(?,?,?,?,?)\", 11,'B',now3, 12 ,2)"
   ]
  },
  {
   "cell_type": "code",
   "execution_count": 244,
   "metadata": {},
   "outputs": [
    {
     "name": "stdout",
     "output_type": "stream",
     "text": [
      "(11, 'B', datetime.date(2019, 1, 4), 12, 2)\n",
      "(12, 'A', datetime.date(2020, 1, 6), 12, 2)\n",
      "(19, 'A', datetime.date(2019, 1, 10), 12, 43)\n",
      "(135, 'B', datetime.date(2020, 1, 6), 12, 100)\n",
      "(164, 'A', datetime.date(2019, 1, 3), 14, 100)\n",
      "(342, 'B', datetime.date(2019, 1, 7), 193, 43)\n"
     ]
    }
   ],
   "source": [
    "cursor = connn.cursor()\n",
    "cursor.execute(\"SELECT * FROM bloodBags\")\n",
    "rows=cursor.fetchall()\n",
    "for row in rows :\n",
    "  print (row)\n",
    "connn.commit()"
   ]
  },
  {
   "cell_type": "code",
   "execution_count": 28,
   "metadata": {},
   "outputs": [
    {
     "ename": "IndentationError",
     "evalue": "unexpected indent (<ipython-input-28-6e96dc756205>, line 3)",
     "output_type": "error",
     "traceback": [
      "\u001b[1;36m  File \u001b[1;32m\"<ipython-input-28-6e96dc756205>\"\u001b[1;36m, line \u001b[1;32m3\u001b[0m\n\u001b[1;33m    cursor.execute(\"SELECT receptionist_name from receptionist where receptionist_shift = 'night shift'\")\u001b[0m\n\u001b[1;37m    ^\u001b[0m\n\u001b[1;31mIndentationError\u001b[0m\u001b[1;31m:\u001b[0m unexpected indent\n"
     ]
    }
   ],
   "source": [
    "cursor = connn.cursor()\n",
    "    cursor.execute(\"SELECT receptionist_name from receptionist where receptionist_shift = 'night shift'\")\n",
    "    rows = cursor.fetchall()\n",
    "\n",
    "for row in rows :\n",
    "  print (row)\n",
    "connn.commit()"
   ]
  },
  {
   "cell_type": "code",
   "execution_count": 29,
   "metadata": {},
   "outputs": [
    {
     "name": "stdout",
     "output_type": "stream",
     "text": [
      "(datetime.date(2019, 1, 3), )\n",
      "(datetime.date(2019, 1, 4), )\n",
      "(datetime.date(2019, 1, 7), )\n",
      "(datetime.date(2019, 1, 10), )\n",
      "(datetime.date(2020, 1, 6), )\n",
      "(datetime.date(2020, 1, 6), )\n"
     ]
    }
   ],
   "source": [
    "cursor = connn.cursor()\n",
    "cursor.execute(\"SELECT bloodBag_Exp from bloodBags order by bloodBag_Exp ASC\")\n",
    "rows= cursor.fetchall()\n",
    "for row in rows :\n",
    "  print (row)\n"
   ]
  },
  {
   "cell_type": "code",
   "execution_count": 30,
   "metadata": {},
   "outputs": [
    {
     "name": "stdout",
     "output_type": "stream",
     "text": [
      "(8, )\n"
     ]
    }
   ],
   "source": [
    "cursor = connn.cursor()\n",
    "cursor.execute(\"SELECT count(*) + 5 as newReqNum from request ;\")\n",
    "rows= cursor.fetchall()\n",
    "for row in rows :\n",
    "  print (row)"
   ]
  },
  {
   "cell_type": "code",
   "execution_count": 67,
   "metadata": {},
   "outputs": [
    {
     "name": "stdout",
     "output_type": "stream",
     "text": [
      "('ahmed mo', 1)\n",
      "('faiza el', 1)\n",
      "('Gil filly', 1)\n",
      "('Holly bo', 2)\n",
      "('lee wong', 1)\n",
      "('sumaya ahmed', 1)\n"
     ]
    }
   ],
   "source": [
    "cursor = connn.cursor()\n",
    "cursor.execute(\"SELECT patient_name , count(*) from patient GROUP BY patient_name HAVING AVG(patient_age) > 20\")\n",
    "rows= cursor.fetchall()\n",
    "for row in rows :\n",
    "  print (row)"
   ]
  },
  {
   "cell_type": "code",
   "execution_count": 32,
   "metadata": {},
   "outputs": [
    {
     "name": "stdout",
     "output_type": "stream",
     "text": [
      "('ahmed mo', 'maya hassan')\n",
      "('abdi noor', 'runi lan')\n",
      "('Holly bo', 'sofi lu')\n",
      "('Gil filly', 'sofi lu')\n",
      "('Holly bo', 'sofi lu')\n",
      "('faiza el', 'runi lan')\n",
      "('sumaya ahmed', 'angie kan')\n",
      "('kareem salah', 'sofi lu')\n",
      "('lee wong', 'maya hassan')\n"
     ]
    }
   ],
   "source": [
    "cursor = connn.cursor()\n",
    "cursor.execute(\"SELECT patient.patient_name , nurse.nurse_name from patient INNER JOIN nurse on nurse.nurse_id = patient.nurse_id;\")\n",
    "rows= cursor.fetchall()\n",
    "for row in rows :\n",
    "  print (row)"
   ]
  },
  {
   "cell_type": "code",
   "execution_count": 34,
   "metadata": {},
   "outputs": [
    {
     "name": "stdout",
     "output_type": "stream",
     "text": [
      "(29, )\n"
     ]
    }
   ],
   "source": [
    "cursor = connn.cursor()\n",
    "cursor.execute(\"SELECT AVG(patient_age) AS avgFemale from patient where patient_gender = 'female'\")\n",
    "rows= cursor.fetchall()\n",
    "for row in rows :\n",
    "  print (row)"
   ]
  },
  {
   "cell_type": "code",
   "execution_count": 35,
   "metadata": {},
   "outputs": [
    {
     "name": "stdout",
     "output_type": "stream",
     "text": [
      "(11107, 300)\n",
      "(11108, 100)\n",
      "(11109, 150)\n",
      "(11120, 200)\n"
     ]
    }
   ],
   "source": [
    "cursor = connn.cursor()\n",
    "cursor.execute(\"SELECT stock_id , SUM(stock_anount) as totalAmount from stock GROUP BY \tstock_id ORDER BY stock_id\")\n",
    "rows= cursor.fetchall()\n",
    "for row in rows :\n",
    "  print (row)"
   ]
  },
  {
   "cell_type": "code",
   "execution_count": 38,
   "metadata": {},
   "outputs": [
    {
     "name": "stdout",
     "output_type": "stream",
     "text": [
      "('new BloodBank', )\n",
      "('westside BloodBank', )\n"
     ]
    }
   ],
   "source": [
    "cursor = connn.cursor()\n",
    "cursor.execute(\"select bloodbank_name from bloodBank where stock_id = (select stock_id from stock where bloodBag_group = 'A')\")\n",
    "rows= cursor.fetchall()\n",
    "for row in rows :\n",
    "  print (row)"
   ]
  },
  {
   "cell_type": "code",
   "execution_count": 81,
   "metadata": {},
   "outputs": [
    {
     "name": "stdout",
     "output_type": "stream",
     "text": [
      "('Holly bo', )\n",
      "('Gil filly', )\n",
      "('Holly bo', )\n",
      "('kareem salah', )\n"
     ]
    }
   ],
   "source": [
    "cursor = connn.cursor()\n",
    "cursor.execute(\"select patient_name from patient where nurse_id = (select nurse_id from nurse where nurse_name = 'sofi lu')\")\n",
    "rows= cursor.fetchall()\n",
    "for row in rows :\n",
    "  print (row)"
   ]
  },
  {
   "cell_type": "code",
   "execution_count": 42,
   "metadata": {},
   "outputs": [
    {
     "ename": "SyntaxError",
     "evalue": "invalid syntax (<ipython-input-42-e532468680ab>, line 1)",
     "output_type": "error",
     "traceback": [
      "\u001b[1;36m  File \u001b[1;32m\"<ipython-input-42-e532468680ab>\"\u001b[1;36m, line \u001b[1;32m1\u001b[0m\n\u001b[1;33m    create procedure SelectAllname @hosname varchar (20) as select * from hospital where hos_name = @hosname GO\u001b[0m\n\u001b[1;37m                   ^\u001b[0m\n\u001b[1;31mSyntaxError\u001b[0m\u001b[1;31m:\u001b[0m invalid syntax\n"
     ]
    }
   ],
   "source": []
  },
  {
   "cell_type": "code",
   "execution_count": 68,
   "metadata": {},
   "outputs": [
    {
     "name": "stdout",
     "output_type": "stream",
     "text": [
      "(30, 'ahmed hassan', 'night shift', 1)\n"
     ]
    }
   ],
   "source": [
    "cursor = connn.cursor()\n",
    "cursor.execute(\"SELECT * from receptionist where receptionist_shift = 'night shift' and receptionist_name LIKE  'A%'\")\n",
    "rows= cursor.fetchall()\n",
    "for row in rows :\n",
    "  print (row)"
   ]
  },
  {
   "cell_type": "code",
   "execution_count": 80,
   "metadata": {},
   "outputs": [
    {
     "ename": "ProgrammingError",
     "evalue": "('42000', \"[42000] [Microsoft][SQL Server Native Client 11.0][SQL Server]Procedure or function 'SelectAllname' expects parameter '@hosname', which was not supplied. (201) (SQLExecDirectW)\")",
     "output_type": "error",
     "traceback": [
      "\u001b[1;31m---------------------------------------------------------------------------\u001b[0m",
      "\u001b[1;31mProgrammingError\u001b[0m                          Traceback (most recent call last)",
      "\u001b[1;32m<ipython-input-80-7386367da371>\u001b[0m in \u001b[0;36m<module>\u001b[1;34m\u001b[0m\n\u001b[0;32m      1\u001b[0m \u001b[0mcursor\u001b[0m \u001b[1;33m=\u001b[0m \u001b[0mconnn\u001b[0m\u001b[1;33m.\u001b[0m\u001b[0mcursor\u001b[0m\u001b[1;33m(\u001b[0m\u001b[1;33m)\u001b[0m\u001b[1;33m\u001b[0m\u001b[1;33m\u001b[0m\u001b[0m\n\u001b[1;32m----> 2\u001b[1;33m \u001b[0mcursor\u001b[0m\u001b[1;33m.\u001b[0m\u001b[0mexecute\u001b[0m\u001b[1;33m(\u001b[0m\u001b[1;34m\"{CALL SelectAllname (@hosname)}\"\u001b[0m\u001b[1;33m)\u001b[0m\u001b[1;33m\u001b[0m\u001b[1;33m\u001b[0m\u001b[0m\n\u001b[0m",
      "\u001b[1;31mProgrammingError\u001b[0m: ('42000', \"[42000] [Microsoft][SQL Server Native Client 11.0][SQL Server]Procedure or function 'SelectAllname' expects parameter '@hosname', which was not supplied. (201) (SQLExecDirectW)\")"
     ]
    }
   ],
   "source": [
    "cursor = connn.cursor()\n",
    "cursor.execute(\"{CALL SelectAllname }\")\n"
   ]
  },
  {
   "cell_type": "code",
   "execution_count": 78,
   "metadata": {},
   "outputs": [
    {
     "ename": "ProgrammingError",
     "evalue": "('42000', \"[42000] [Microsoft][SQL Server Native Client 11.0][SQL Server]Incorrect syntax near '@P1'. (102) (SQLExecDirectW); [42000] [Microsoft][SQL Server Native Client 11.0][SQL Server]Statement(s) could not be prepared. (8180)\")",
     "output_type": "error",
     "traceback": [
      "\u001b[1;31m---------------------------------------------------------------------------\u001b[0m",
      "\u001b[1;31mProgrammingError\u001b[0m                          Traceback (most recent call last)",
      "\u001b[1;32m<ipython-input-78-5925ee26e46e>\u001b[0m in \u001b[0;36m<module>\u001b[1;34m\u001b[0m\n\u001b[0;32m      1\u001b[0m \u001b[0mcursor\u001b[0m \u001b[1;33m=\u001b[0m \u001b[0mconnn\u001b[0m\u001b[1;33m.\u001b[0m\u001b[0mcursor\u001b[0m\u001b[1;33m(\u001b[0m\u001b[1;33m)\u001b[0m\u001b[1;33m\u001b[0m\u001b[1;33m\u001b[0m\u001b[0m\n\u001b[1;32m----> 2\u001b[1;33m \u001b[0mcursor\u001b[0m\u001b[1;33m.\u001b[0m\u001b[0mexecute\u001b[0m\u001b[1;33m(\u001b[0m\u001b[1;34m\"EXEC SelectAllname (?) \"\u001b[0m\u001b[1;33m,\u001b[0m\u001b[1;34m'Reunion'\u001b[0m\u001b[1;33m)\u001b[0m\u001b[1;33m\u001b[0m\u001b[1;33m\u001b[0m\u001b[0m\n\u001b[0m\u001b[0;32m      3\u001b[0m \u001b[0mrows\u001b[0m\u001b[1;33m=\u001b[0m \u001b[0mcursor\u001b[0m\u001b[1;33m.\u001b[0m\u001b[0mfetchall\u001b[0m\u001b[1;33m(\u001b[0m\u001b[1;33m)\u001b[0m\u001b[1;33m\u001b[0m\u001b[1;33m\u001b[0m\u001b[0m\n\u001b[0;32m      4\u001b[0m \u001b[1;32mfor\u001b[0m \u001b[0mrow\u001b[0m \u001b[1;32min\u001b[0m \u001b[0mrows\u001b[0m \u001b[1;33m:\u001b[0m\u001b[1;33m\u001b[0m\u001b[1;33m\u001b[0m\u001b[0m\n\u001b[0;32m      5\u001b[0m   \u001b[0mprint\u001b[0m \u001b[1;33m(\u001b[0m\u001b[0mrow\u001b[0m\u001b[1;33m)\u001b[0m\u001b[1;33m\u001b[0m\u001b[1;33m\u001b[0m\u001b[0m\n",
      "\u001b[1;31mProgrammingError\u001b[0m: ('42000', \"[42000] [Microsoft][SQL Server Native Client 11.0][SQL Server]Incorrect syntax near '@P1'. (102) (SQLExecDirectW); [42000] [Microsoft][SQL Server Native Client 11.0][SQL Server]Statement(s) could not be prepared. (8180)\")"
     ]
    }
   ],
   "source": [
    "cursor = connn.cursor()\n",
    "cursor.execute(\"EXEC SelectAllname \",'Reunion')\n",
    "rows= cursor.fetchall()\n",
    "for row in rows :\n",
    "  print (row)"
   ]
  },
  {
   "cell_type": "code",
   "execution_count": 55,
   "metadata": {},
   "outputs": [
    {
     "name": "stdout",
     "output_type": "stream",
     "text": [
      "('lee wong', 67)\n",
      "('ahmed mo', 57)\n",
      "('Gil filly', 43)\n",
      "('faiza el', 30)\n",
      "('sumaya ahmed', 26)\n",
      "('Holly bo', 23)\n",
      "('Holly bo', 23)\n",
      "('abdi noor', 20)\n",
      "('kareem salah', 14)\n"
     ]
    }
   ],
   "source": [
    "cursor = connn.cursor()\n",
    "cursor.execute(\"SELECT patient_name , patient_age from patient order by patient_age desc\")\n",
    "rows= cursor.fetchall()\n",
    "for row in rows :\n",
    "  print (row)"
   ]
  },
  {
   "cell_type": "code",
   "execution_count": 56,
   "metadata": {},
   "outputs": [
    {
     "name": "stdout",
     "output_type": "stream",
     "text": [
      "('Gil filly', 43, 'female')\n"
     ]
    }
   ],
   "source": [
    "cursor = connn.cursor()\n",
    "cursor.execute(\"SELECT patient_name , patient_age , patient_gender from patient where patient_age > 40 AND patient_gender = 'female';\")\n",
    "rows= cursor.fetchall()\n",
    "for row in rows :\n",
    "  print (row)"
   ]
  },
  {
   "cell_type": "code",
   "execution_count": 70,
   "metadata": {},
   "outputs": [
    {
     "name": "stdout",
     "output_type": "stream",
     "text": [
      "('ahmed mo', 1)\n",
      "('faiza el', 1)\n",
      "('Gil filly', 1)\n",
      "('Holly bo', 2)\n",
      "('lee wong', 1)\n",
      "('sumaya ahmed', 1)\n"
     ]
    }
   ],
   "source": [
    "cursor = connn.cursor()\n",
    "cursor.execute(\"SELECT patient_name , count(*) from patient GROUP BY patient_name HAVING AVG(patient_age) > 20\")\n",
    "rows= cursor.fetchall()\n",
    "for row in rows :\n",
    "  print (row)"
   ]
  },
  {
   "cell_type": "code",
   "execution_count": 58,
   "metadata": {},
   "outputs": [
    {
     "name": "stdout",
     "output_type": "stream",
     "text": [
      "(11107, 300)\n",
      "(11108, 100)\n",
      "(11109, 150)\n",
      "(11120, 200)\n"
     ]
    }
   ],
   "source": [
    "\n",
    "cursor = connn.cursor()\n",
    "cursor.execute(\"SELECT stock_id , SUM(stock_anount) as totalAmount from stock GROUP BY stock_id ORDER BY stock_id\")\n",
    "rows= cursor.fetchall()\n",
    "for row in rows :\n",
    "  print (row)"
   ]
  },
  {
   "cell_type": "code",
   "execution_count": 60,
   "metadata": {},
   "outputs": [
    {
     "name": "stdout",
     "output_type": "stream",
     "text": [
      "(11107, 300)\n",
      "(11108, 100)\n",
      "(11109, 150)\n",
      "(11120, 200)\n"
     ]
    }
   ],
   "source": [
    "\n",
    "cursor = connn.cursor()\n",
    "cursor.execute(\"SELECT stock_id , SUM(stock_anount) as totalAmount from stock GROUP BY stock_id ORDER BY stock_id \")\n",
    "rows= cursor.fetchall()\n",
    "for row in rows :\n",
    "  print (row)"
   ]
  },
  {
   "cell_type": "code",
   "execution_count": 62,
   "metadata": {},
   "outputs": [
    {
     "name": "stdout",
     "output_type": "stream",
     "text": [
      "(39, 'Holly bo', 'female', 23, 'A', 1, 1)\n",
      "(66, 'Holly bo', 'female', 23, 'A', 1, 1)\n",
      "(421, 'sumaya ahmed', 'female', 26, 'A', 1, 28)\n",
      "(423, 'kareem salah', 'male', 14, 'A', 1, 1)\n",
      "(763, 'lee wong', 'male', 67, 'A', 3, 3)\n"
     ]
    }
   ],
   "source": [
    "cursor = connn.cursor()\n",
    "cursor.execute(\"SELECT * from patient where patient_bloodType in ('A','AB')\")\n",
    "rows= cursor.fetchall()\n",
    "for row in rows :\n",
    "  print (row)"
   ]
  },
  {
   "cell_type": "code",
   "execution_count": 69,
   "metadata": {},
   "outputs": [
    {
     "name": "stdout",
     "output_type": "stream",
     "text": [
      "('sofi lu', 'Reunion')\n",
      "('maya hassan', 'bakirkoy hospital')\n",
      "('angie kan', 'Reunion')\n",
      "('zayn ali', 'bakirkoy hospital')\n",
      "('runi lan', 'laptop hospital')\n"
     ]
    }
   ],
   "source": [
    "cursor = connn.cursor()\n",
    "cursor.execute(\"SELECT nurse.nurse_name , hospital.hos_name from hospital INNER JOIN nurse on hospital.hos_id = nurse.hos_id\")\n",
    "rows= cursor.fetchall()\n",
    "for row in rows :\n",
    "  print (row)"
   ]
  },
  {
   "cell_type": "code",
   "execution_count": null,
   "metadata": {},
   "outputs": [],
   "source": []
  }
 ],
 "metadata": {
  "kernelspec": {
   "display_name": "Python 3",
   "language": "python",
   "name": "python3"
  },
  "language_info": {
   "codemirror_mode": {
    "name": "ipython",
    "version": 3
   },
   "file_extension": ".py",
   "mimetype": "text/x-python",
   "name": "python",
   "nbconvert_exporter": "python",
   "pygments_lexer": "ipython3",
   "version": "3.7.4"
  }
 },
 "nbformat": 4,
 "nbformat_minor": 2
}
